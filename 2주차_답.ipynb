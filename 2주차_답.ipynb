{
  "nbformat": 4,
  "nbformat_minor": 0,
  "metadata": {
    "colab": {
      "name": "2주차 답.ipynb",
      "provenance": [],
      "authorship_tag": "ABX9TyNP3f4bo4Fv3TL5Fh1J6CEL",
      "include_colab_link": true
    },
    "kernelspec": {
      "name": "python3",
      "display_name": "Python 3"
    },
    "language_info": {
      "name": "python"
    }
  },
  "cells": [
    {
      "cell_type": "markdown",
      "metadata": {
        "id": "view-in-github",
        "colab_type": "text"
      },
      "source": [
        "<a href=\"https://colab.research.google.com/github/Deep-of-Machine/HYU_assignment/blob/main/2%EC%A3%BC%EC%B0%A8_%EB%8B%B5.ipynb\" target=\"_parent\"><img src=\"https://colab.research.google.com/assets/colab-badge.svg\" alt=\"Open In Colab\"/></a>"
      ]
    },
    {
      "cell_type": "code",
      "source": [
        "round(2.5)"
      ],
      "metadata": {
        "colab": {
          "base_uri": "https://localhost:8080/"
        },
        "id": "nDT1RhiFXa0z",
        "outputId": "c25bda39-d2f5-4c4c-dbe0-201b887a8535"
      },
      "execution_count": null,
      "outputs": [
        {
          "output_type": "execute_result",
          "data": {
            "text/plain": [
              "2"
            ]
          },
          "metadata": {},
          "execution_count": 13
        }
      ]
    },
    {
      "cell_type": "code",
      "source": [
        "int(7)\n",
        "float(3)\n",
        "str(2018)\n",
        "int(0.1)\n",
        "float(3.14)\n",
        "str(3+4)\n",
        "int(3.84)\n",
        "float(\"3.14\")\n",
        "str(1.414)\n",
        "int(0.2e3)\n",
        "float(\"3\")\n",
        "str(0.1*0.1)\n",
        "int(\"2020\")\n",
        "float(\"0.1*0.1\")\n",
        "str(3.14e-3)\n",
        "int(\"3.14\")\n",
        "int(\"3+4\")\n",
        "int(\"three\")"
      ],
      "metadata": {
        "colab": {
          "base_uri": "https://localhost:8080/",
          "height": 232
        },
        "id": "QitxoAk3XeLW",
        "outputId": "e7af1a55-ecd5-4fcc-fada-0c9ad104124c"
      },
      "execution_count": null,
      "outputs": [
        {
          "output_type": "error",
          "ename": "ValueError",
          "evalue": "ignored",
          "traceback": [
            "\u001b[0;31m---------------------------------------------------------------------------\u001b[0m",
            "\u001b[0;31mValueError\u001b[0m                                Traceback (most recent call last)",
            "\u001b[0;32m<ipython-input-15-dd6d72e8458a>\u001b[0m in \u001b[0;36m<module>\u001b[0;34m()\u001b[0m\n\u001b[1;32m     12\u001b[0m \u001b[0mstr\u001b[0m\u001b[0;34m(\u001b[0m\u001b[0;36m0.1\u001b[0m\u001b[0;34m*\u001b[0m\u001b[0;36m0.1\u001b[0m\u001b[0;34m)\u001b[0m\u001b[0;34m\u001b[0m\u001b[0;34m\u001b[0m\u001b[0m\n\u001b[1;32m     13\u001b[0m \u001b[0mint\u001b[0m\u001b[0;34m(\u001b[0m\u001b[0;34m\"2020\"\u001b[0m\u001b[0;34m)\u001b[0m\u001b[0;34m\u001b[0m\u001b[0;34m\u001b[0m\u001b[0m\n\u001b[0;32m---> 14\u001b[0;31m \u001b[0mfloat\u001b[0m\u001b[0;34m(\u001b[0m\u001b[0;34m\"0.1*0.1\"\u001b[0m\u001b[0;34m)\u001b[0m\u001b[0;34m\u001b[0m\u001b[0;34m\u001b[0m\u001b[0m\n\u001b[0m\u001b[1;32m     15\u001b[0m \u001b[0mstr\u001b[0m\u001b[0;34m(\u001b[0m\u001b[0;36m3.14e-3\u001b[0m\u001b[0;34m)\u001b[0m\u001b[0;34m\u001b[0m\u001b[0;34m\u001b[0m\u001b[0m\n\u001b[1;32m     16\u001b[0m \u001b[0mint\u001b[0m\u001b[0;34m(\u001b[0m\u001b[0;34m\"3.14\"\u001b[0m\u001b[0;34m)\u001b[0m\u001b[0;34m\u001b[0m\u001b[0;34m\u001b[0m\u001b[0m\n",
            "\u001b[0;31mValueError\u001b[0m: could not convert string to float: '0.1*0.1'"
          ]
        }
      ]
    },
    {
      "cell_type": "code",
      "source": [
        "s = 9.58\n",
        "result = ((100/s) * (60*60)/1000)\n",
        "print(int(result))"
      ],
      "metadata": {
        "colab": {
          "base_uri": "https://localhost:8080/"
        },
        "id": "jKMwJAMYYBMp",
        "outputId": "1e0dcc68-2cad-46fa-875f-5e28bd99a28e"
      },
      "execution_count": null,
      "outputs": [
        {
          "output_type": "stream",
          "name": "stdout",
          "text": [
            "37\n"
          ]
        }
      ]
    },
    {
      "cell_type": "code",
      "execution_count": null,
      "metadata": {
        "colab": {
          "base_uri": "https://localhost:8080/"
        },
        "id": "Zbp9RZN9UAgE",
        "outputId": "d9b1eb8e-1c48-4808-e002-a13c361bcf93"
      },
      "outputs": [
        {
          "output_type": "stream",
          "name": "stdout",
          "text": [
            "3\n",
            "The area of a circle with radius 3.0 is 28.3\n"
          ]
        }
      ],
      "source": [
        "from math import pi\n",
        "\n",
        "r  = float(input())\n",
        "\n",
        "result = pi * r ** 2 \n",
        "print(\"The area of a circle with radius\", r, \"is\", round(result, 1))"
      ]
    },
    {
      "cell_type": "code",
      "source": [
        "print('Enter the number of coins you have.')\n",
        "c_500 = int(input('500 won? '))\n",
        "c_100 = int(input('100 won? '))\n",
        "c_50 = int(input(' 50 won? '))\n",
        "c_10 = int(input(' 10 won? '))\n",
        "result = c_500*500 + c_100*100 + c_50*50 + c_10*10\n",
        "print('You have', result, 'won in total.')"
      ],
      "metadata": {
        "colab": {
          "base_uri": "https://localhost:8080/"
        },
        "id": "Ekd4AlzHUmeW",
        "outputId": "7b04e0a7-4370-4cc4-cd50-59b6a4b44138"
      },
      "execution_count": null,
      "outputs": [
        {
          "output_type": "stream",
          "name": "stdout",
          "text": [
            "Enter the number of coins you have.\n",
            "500 won? 4\n",
            "100 won? 2\n",
            " 50 won? 3\n",
            " 10 won? 4\n",
            "You have 2390 won in total.\n"
          ]
        }
      ]
    },
    {
      "cell_type": "code",
      "source": [
        "print('Fahrenheit to Celsius conversion')\n",
        "f = float(input('Degrees in Fahrenheit?'))\n",
        "\n",
        "c = (f-32)*(5/9)\n",
        "print(round(c,1), 'degrees in Celsius')"
      ],
      "metadata": {
        "colab": {
          "base_uri": "https://localhost:8080/"
        },
        "id": "Ieq-ZipWV0Cg",
        "outputId": "2b45f61d-e893-4b34-8f6c-94f8034fad6b"
      },
      "execution_count": null,
      "outputs": [
        {
          "output_type": "stream",
          "name": "stdout",
          "text": [
            "Fahrenheit to Celsius conversion\n",
            "Degrees in Fahrenheit?67\n",
            "19.4 degrees in Celsius\n"
          ]
        }
      ]
    },
    {
      "cell_type": "code",
      "source": [
        "def coin_in_total(c500, c100, c50, c10):\n",
        "    result = c500*500 + c100*100 + c50*50 + c10*10\n",
        "    return result\n",
        "\n",
        "print(coin_in_total(4,2,3,4))"
      ],
      "metadata": {
        "colab": {
          "base_uri": "https://localhost:8080/"
        },
        "id": "qCaKHJ3uWrre",
        "outputId": "3bfb17ff-8051-4514-ada9-4e8c323fc8d1"
      },
      "execution_count": null,
      "outputs": [
        {
          "output_type": "stream",
          "name": "stdout",
          "text": [
            "2390\n"
          ]
        }
      ]
    },
    {
      "cell_type": "code",
      "source": [
        "def fahrenheit2celsius(f):\n",
        "    result = (f-32)*(5/9)\n",
        "    return result\n",
        "\n",
        "print(fahrenheit2celsius(67))\n",
        "print(round(fahrenheit2celsius(67),1))"
      ],
      "metadata": {
        "colab": {
          "base_uri": "https://localhost:8080/"
        },
        "id": "zc9q5PcNXJ44",
        "outputId": "deb95a4a-bcf6-4cd8-baec-f56c69bb1dc3"
      },
      "execution_count": null,
      "outputs": [
        {
          "output_type": "stream",
          "name": "stdout",
          "text": [
            "19.444444444444446\n",
            "19.4\n"
          ]
        }
      ]
    },
    {
      "cell_type": "code",
      "source": [
        "def complement_nine(n):\n",
        "    result = 10**len(str(n)) - 1 - n\n",
        "    return result\n",
        "\n",
        "\n",
        "print(complement_nine(0))\n",
        "print(complement_nine(9))\n",
        "print(complement_nine(4))\n",
        "print(complement_nine(18))\n",
        "print(complement_nine(40))\n",
        "print(complement_nine(207))\n",
        "print(complement_nine(9142))\n",
        "print(complement_nine(9965))\n",
        "print(complement_nine(9999))"
      ],
      "metadata": {
        "colab": {
          "base_uri": "https://localhost:8080/"
        },
        "id": "V9Yog2h1ZLyI",
        "outputId": "f228d452-ed1f-4e88-ab26-985293a9b7b8"
      },
      "execution_count": null,
      "outputs": [
        {
          "output_type": "stream",
          "name": "stdout",
          "text": [
            "9\n",
            "0\n",
            "5\n",
            "81\n",
            "59\n",
            "792\n",
            "857\n",
            "34\n",
            "0\n"
          ]
        }
      ]
    },
    {
      "cell_type": "code",
      "source": [
        ""
      ],
      "metadata": {
        "id": "K57IVtAFZ6Kn"
      },
      "execution_count": null,
      "outputs": []
    }
  ]
}