{
  "nbformat": 4,
  "nbformat_minor": 0,
  "metadata": {
    "colab": {
      "name": "4주차 실습.ipynb",
      "provenance": [],
      "authorship_tag": "ABX9TyOMFwswgeMT2Nj1XgWCT48g",
      "include_colab_link": true
    },
    "kernelspec": {
      "name": "python3",
      "display_name": "Python 3"
    },
    "language_info": {
      "name": "python"
    }
  },
  "cells": [
    {
      "cell_type": "markdown",
      "metadata": {
        "id": "view-in-github",
        "colab_type": "text"
      },
      "source": [
        "<a href=\"https://colab.research.google.com/github/Deep-of-Machine/HYU_assignment/blob/main/4%EC%A3%BC%EC%B0%A8_%EC%8B%A4%EC%8A%B5.ipynb\" target=\"_parent\"><img src=\"https://colab.research.google.com/assets/colab-badge.svg\" alt=\"Open In Colab\"/></a>"
      ]
    },
    {
      "cell_type": "code",
      "source": [
        "#4.10\n",
        "def sumrange(m,n):\n",
        "    if m <= n:\n",
        "        return m + sumrange(m+1,n)\n",
        "    else:\n",
        "        return 0\n",
        "\n",
        "# Test code\n",
        "print(sumrange(3,2))   # 0\n",
        "print(sumrange(3,3))   # 3\n",
        "print(sumrange(3,4))   # 7\n",
        "print(sumrange(3,6))   # 18\n",
        "print(sumrange(1,10))  # 55\n",
        "print(sumrange(-5,10)) # 40\n",
        "print(sumrange(-5,-2)) # -14"
      ],
      "metadata": {
        "id": "pS6OHqZX14JC",
        "colab": {
          "base_uri": "https://localhost:8080/"
        },
        "outputId": "f7688d30-4bea-4f89-9165-9699d06aa6d0"
      },
      "execution_count": 35,
      "outputs": [
        {
          "output_type": "stream",
          "name": "stdout",
          "text": [
            "0\n",
            "3\n",
            "7\n",
            "18\n",
            "55\n",
            "40\n",
            "-14\n"
          ]
        }
      ]
    },
    {
      "cell_type": "code",
      "source": [
        "#4.11\n",
        "def sumrange(m,n):\n",
        "    def loop(m,total):\n",
        "        if m <= n:\n",
        "            return loop(m+1, n)\n",
        "        else:\n",
        "            return 0\n",
        "    return loop(m, n)"
      ],
      "metadata": {
        "id": "bEsxQEPl18GZ"
      },
      "execution_count": 36,
      "outputs": []
    },
    {
      "cell_type": "code",
      "execution_count": 37,
      "metadata": {
        "id": "a-OPh94m0y6I"
      },
      "outputs": [],
      "source": [
        "#4.12\n",
        "def sumrange(m,n):\n",
        "    total = 0\n",
        "    while m <= n:\n",
        "        total = total + m\n",
        "        m = m + 1\n",
        "    return total"
      ]
    },
    {
      "cell_type": "code",
      "source": [
        "#4.20\n",
        "def gcd(m,n):\n",
        "    if n != 0:\n",
        "        return gcd(n,m%n)\n",
        "    else:\n",
        "        return m\n",
        "\n",
        "# Test code\n",
        "print(gcd(48,18))  # 6\n",
        "print(gcd(18,48))  # 6\n",
        "print(gcd(192,72)) # 24\n",
        "print(gcd(18,57))  # 3\n",
        "print(gcd(0,11))   # 11\n",
        "\n",
        "def gcd(m, n):\n",
        "    while n != 0:\n",
        "        m, n = n, m%n\n",
        "    return m"
      ],
      "metadata": {
        "id": "TpR44TE_2FK3",
        "colab": {
          "base_uri": "https://localhost:8080/"
        },
        "outputId": "6401d8b6-9937-4182-f786-848fbc1392a7"
      },
      "execution_count": 38,
      "outputs": [
        {
          "output_type": "stream",
          "name": "stdout",
          "text": [
            "6\n",
            "6\n",
            "24\n",
            "3\n",
            "11\n"
          ]
        }
      ]
    },
    {
      "cell_type": "code",
      "source": [
        "#4.23\n",
        "def gcd(m,n):\n",
        "    if not (m == 0 or n == 0):\n",
        "        if even(m) and even(n):\n",
        "            return 2 * gcd(m//2,n//2)\n",
        "        elif even(m) and odd(n):\n",
        "            return gcd(m//2,n)\n",
        "        elif odd(m) and even(n):\n",
        "            return gcd(m,n//2)\n",
        "        elif m <= n:\n",
        "            return gcd(m,(n-m)//2)\n",
        "        else:\n",
        "            return gcd(n,(m-n)//2)\n",
        "    else:\n",
        "        if m == 0:\n",
        "            return n\n",
        "        else:\n",
        "            return m"
      ],
      "metadata": {
        "id": "-4v18qhs2LBX"
      },
      "execution_count": 39,
      "outputs": []
    },
    {
      "cell_type": "code",
      "source": [
        "#4.24\n",
        "def even(num):\n",
        "  return num % 2 == 0\n",
        "\n",
        "def odd(num):\n",
        "  return num % 2 != 0\n",
        "\n",
        "def gcd(m,n):\n",
        "    def loop(m,n,k):\n",
        "        if not (m == 0 or n == 0):\n",
        "            if even(m) and even(n):\n",
        "                return loop(m//2,n//2, k*2)\n",
        "            elif even(m) and odd(n):\n",
        "                return loop(m//2,n,k)\n",
        "            elif odd(m) and even(n):\n",
        "                return loop(m,n//2,k)\n",
        "            elif m <= n:\n",
        "                return loop(m,(n-m)//2,k)\n",
        "            else:\n",
        "                return loop(n,(m-n)//2,k)\n",
        "        else:\n",
        "            if m == 0:\n",
        "                return n*k\n",
        "            else: # n == 0\n",
        "                return m*k\n",
        "    return loop(m,n,1)"
      ],
      "metadata": {
        "id": "NNHVhpaf2QH5"
      },
      "execution_count": 40,
      "outputs": []
    },
    {
      "cell_type": "code",
      "source": [
        "#4.25\n",
        "\n",
        "def even(num):\n",
        "  return num % 2 == 0\n",
        "\n",
        "def odd(num):\n",
        "  return num % 2 != 0\n",
        "\n",
        "def gcd(m,n):\n",
        "    k = 1\n",
        "    while not (m == 0 or n == 0):\n",
        "        if even(m) and even(n):\n",
        "            m, n, k = m//2,n//2, k*2 \n",
        "        elif even(m) and odd(n):\n",
        "            m = m//2\n",
        "        elif odd(m) and even(n):\n",
        "            n = n//2\n",
        "        elif m <= n:\n",
        "            n = (n-m)//2\n",
        "        else:\n",
        "            m, n = n, (m-n)//2\n",
        "    if m == 0:\n",
        "        return n*k\n",
        "    else: # n == 0\n",
        "        return m*k"
      ],
      "metadata": {
        "id": "20jIDftU2WEX"
      },
      "execution_count": 41,
      "outputs": []
    },
    {
      "cell_type": "code",
      "source": [
        "#4.26\n",
        "def mult(m,n):\n",
        "    if n > 0:\n",
        "        return m + mult(m,n-1)\n",
        "    else:\n",
        "        return 0"
      ],
      "metadata": {
        "id": "qaAKsWV_2fSN"
      },
      "execution_count": 42,
      "outputs": []
    },
    {
      "cell_type": "code",
      "source": [
        "#4.27\n",
        "def mult(m,n):\n",
        "    def loop(n,ans):\n",
        "        if n > 0:\n",
        "            return loop(n-1, m+ans)\n",
        "        else:\n",
        "            return ans\n",
        "    return loop(n,0)"
      ],
      "metadata": {
        "id": "QoTRudU62mWB"
      },
      "execution_count": 43,
      "outputs": []
    },
    {
      "cell_type": "code",
      "source": [
        "#4.28\n",
        "def mult(m,n):\n",
        "    ans = 0\n",
        "    while  n>0:\n",
        "        n = n-1\n",
        "        ans = ans + m\n",
        "\n",
        "    return ans"
      ],
      "metadata": {
        "id": "NQH9T9bz2u7Q"
      },
      "execution_count": 44,
      "outputs": []
    },
    {
      "cell_type": "code",
      "source": [
        "#4.29\n",
        "def fastmult(m,n):\n",
        "    if n > 0:\n",
        "        if n % 2 == 0:\n",
        "            return fastmult((m+m), (n/2))\n",
        "        else:\n",
        "            return m + fastmult(m, (n-1))\n",
        "    else:\n",
        "        return 0"
      ],
      "metadata": {
        "id": "sbLe83RR2wbG"
      },
      "execution_count": 45,
      "outputs": []
    },
    {
      "cell_type": "code",
      "source": [
        "#4.30\n",
        "def fastmult(m,n):\n",
        "    def loop(m,n,ans):\n",
        "        if n > 0:\n",
        "            if n % 2 == 0:\n",
        "                return loop((m+m), (n/2), ans)\n",
        "            else:\n",
        "                return loop(m, (n-1), m + ans)\n",
        "        else:\n",
        "            return 0\n",
        "    return loop(m,n, 0)"
      ],
      "metadata": {
        "id": "vMVnADN62wpI"
      },
      "execution_count": 46,
      "outputs": []
    },
    {
      "cell_type": "code",
      "source": [
        "#4.31\n",
        "def fastmult(m,n):\n",
        "    ans = 0\n",
        "    while n > 0:\n",
        "        if n % 2 == 0:\n",
        "            m,n = (m+m), (n/2)\n",
        "        else:\n",
        "            n, ans = (n-1), m+ ans\n",
        "    return ans"
      ],
      "metadata": {
        "id": "tjJoEPfm2w6m"
      },
      "execution_count": 47,
      "outputs": []
    }
  ]
}