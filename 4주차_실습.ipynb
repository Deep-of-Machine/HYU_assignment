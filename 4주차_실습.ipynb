{
  "nbformat": 4,
  "nbformat_minor": 0,
  "metadata": {
    "colab": {
      "name": "4주차 실습.ipynb",
      "provenance": [],
      "authorship_tag": "ABX9TyOWFeK3Bb3OgDMbQCE2TMAp",
      "include_colab_link": true
    },
    "kernelspec": {
      "name": "python3",
      "display_name": "Python 3"
    },
    "language_info": {
      "name": "python"
    }
  },
  "cells": [
    {
      "cell_type": "markdown",
      "metadata": {
        "id": "view-in-github",
        "colab_type": "text"
      },
      "source": [
        "<a href=\"https://colab.research.google.com/github/Deep-of-Machine/HYU_assignment/blob/main/4%EC%A3%BC%EC%B0%A8_%EC%8B%A4%EC%8A%B5.ipynb\" target=\"_parent\"><img src=\"https://colab.research.google.com/assets/colab-badge.svg\" alt=\"Open In Colab\"/></a>"
      ]
    },
    {
      "cell_type": "code",
      "source": [
        "#4.10\n",
        "def sumrange(m,n):\n",
        "    if m <= n:\n",
        "        return m + sumrange(m+1,n)\n",
        "    else:\n",
        "        return 0\n",
        "\n",
        "# Test code\n",
        "print(sumrange(3,2))   # 0\n",
        "print(sumrange(3,3))   # 3\n",
        "print(sumrange(3,4))   # 7\n",
        "print(sumrange(3,6))   # 18\n",
        "print(sumrange(1,10))  # 55\n",
        "print(sumrange(-5,10)) # 40\n",
        "print(sumrange(-5,-2)) # -14"
      ],
      "metadata": {
        "id": "pS6OHqZX14JC"
      },
      "execution_count": null,
      "outputs": []
    },
    {
      "cell_type": "code",
      "source": [
        "#4.11\n",
        "def sumrange(m,n):\n",
        "    def loop(m,total):\n",
        "        if m <= n:\n",
        "            return loop(m+1,_____)\n",
        "        else:\n",
        "            return _____\n",
        "    return loop(m,___)"
      ],
      "metadata": {
        "id": "bEsxQEPl18GZ"
      },
      "execution_count": null,
      "outputs": []
    },
    {
      "cell_type": "code",
      "execution_count": null,
      "metadata": {
        "id": "a-OPh94m0y6I"
      },
      "outputs": [],
      "source": [
        "#4.12\n",
        "def sumrange(m,n):\n",
        "    total = __\n",
        "    while m <= n:\n",
        "        total = ________\n",
        "        m = _______\n",
        "    return total"
      ]
    },
    {
      "cell_type": "code",
      "source": [
        "#4.20\n",
        "def gcd(m,n):\n",
        "    if n != 0:\n",
        "        return gcd(n,m%n)\n",
        "    else:\n",
        "        return m\n",
        "\n",
        "# Test code\n",
        "print(gcd(48,18))  # 6\n",
        "print(gcd(18,48))  # 6\n",
        "print(gcd(192,72)) # 24\n",
        "print(gcd(18,57))  # 3\n",
        "print(gcd(0,11))   # 11"
      ],
      "metadata": {
        "id": "TpR44TE_2FK3"
      },
      "execution_count": null,
      "outputs": []
    },
    {
      "cell_type": "code",
      "source": [
        "#4.23\n",
        "def gcd(m,n):\n",
        "    if not (m == 0 or n == 0):\n",
        "        if even(m) and even(n):\n",
        "            return 2 * gcd(m//2,n//2)\n",
        "        elif even(m) and odd(n):\n",
        "            return gcd(m//2,n)\n",
        "        elif odd(m) and even(n):\n",
        "            return gcd(m,n//2)\n",
        "        elif m <= n:\n",
        "            return gcd(m,(n-m)//2)\n",
        "        else:\n",
        "            return gcd(n,(m-n)//2)\n",
        "    else:\n",
        "        if m == 0:\n",
        "            return n\n",
        "        else:\n",
        "            return m"
      ],
      "metadata": {
        "id": "-4v18qhs2LBX"
      },
      "execution_count": null,
      "outputs": []
    },
    {
      "cell_type": "code",
      "source": [
        "#4.24\n",
        "def gcd(m,n):\n",
        "    def loop(m,n,k):\n",
        "        if not (m == 0 or n == 0):\n",
        "            if even(m) and even(n):\n",
        "                return loop(m//2,n//2,_____)\n",
        "            elif even(m) and odd(n):\n",
        "                return loop(m//2,n,k)\n",
        "            elif odd(m) and even(n):\n",
        "                return loop(m,n//2,k)\n",
        "            elif m <= n:\n",
        "                return loop(m,(n-m)//2,k)\n",
        "            else:\n",
        "                return loop(n,(m-n)//2,k)\n",
        "        else:\n",
        "            if m == 0:\n",
        "                return _______\n",
        "            else: # n == 0\n",
        "                return _______\n",
        "    return loop(m,n,1)"
      ],
      "metadata": {
        "id": "NNHVhpaf2QH5"
      },
      "execution_count": null,
      "outputs": []
    },
    {
      "cell_type": "code",
      "source": [
        "#4.25\n",
        "def gcd(m,n):\n",
        "    k = 1\n",
        "    while not (m == 0 or n == 0):\n",
        "        if even(m) and even(n):\n",
        "            m, n, k = _______\n",
        "        elif even(m) and odd(n):\n",
        "            m = _______\n",
        "        elif odd(m) and even(n):\n",
        "            n = _______\n",
        "        elif m <= n:\n",
        "            n = _______\n",
        "        else:\n",
        "            m, n = _______\n",
        "    if m == 0:\n",
        "        return _______\n",
        "    else: # n == 0\n",
        "        return _______"
      ],
      "metadata": {
        "id": "20jIDftU2WEX"
      },
      "execution_count": null,
      "outputs": []
    },
    {
      "cell_type": "code",
      "source": [
        "#4.26\n",
        "def mult(m,n):\n",
        "    if n > 0:\n",
        "        return m + mult(m,n-1)\n",
        "    else:\n",
        "        return 0"
      ],
      "metadata": {
        "id": "qaAKsWV_2fSN"
      },
      "execution_count": null,
      "outputs": []
    },
    {
      "cell_type": "code",
      "source": [
        "#4.27\n",
        "def mult(m,n):\n",
        "    def loop(n,ans):\n",
        "        if n > 0:\n",
        "            return ____\n",
        "        else:\n",
        "            return ____\n",
        "    return loop(n,____)"
      ],
      "metadata": {
        "id": "QoTRudU62mWB"
      },
      "execution_count": null,
      "outputs": []
    },
    {
      "cell_type": "code",
      "source": [
        "#4.28\n",
        "def mult(m,n):\n",
        "    ans = ___\n",
        "    while _______ :\n",
        "    \tpass # Fill your code in this space.\n",
        "\n",
        "\n",
        "    return ____"
      ],
      "metadata": {
        "id": "NQH9T9bz2u7Q"
      },
      "execution_count": null,
      "outputs": []
    },
    {
      "cell_type": "code",
      "source": [
        "#4.29\n",
        "def fastmult(m,n):\n",
        "    if n > 0:\n",
        "        if n % 2 == 0:\n",
        "            return ___\n",
        "        else:\n",
        "            return ___\n",
        "    else:\n",
        "        return ___"
      ],
      "metadata": {
        "id": "sbLe83RR2wbG"
      },
      "execution_count": null,
      "outputs": []
    },
    {
      "cell_type": "code",
      "source": [
        "#4.30\n",
        "def fastmult(m,n):\n",
        "    def loop(m,n,ans):\n",
        "        if n > 0:\n",
        "        \tpass # Fill your code in this space.\n",
        "\n",
        "        else:\n",
        "            return ___\n",
        "    return loop(m,n,__)"
      ],
      "metadata": {
        "id": "vMVnADN62wpI"
      },
      "execution_count": null,
      "outputs": []
    },
    {
      "cell_type": "code",
      "source": [
        "#4.31\n",
        "def fastmult(m,n):\n",
        "    ans = ______\n",
        "    while n > 0:\n",
        "        pass # Fill your code in this space.\n",
        "\n",
        "\n",
        "    return ans"
      ],
      "metadata": {
        "id": "tjJoEPfm2w6m"
      },
      "execution_count": null,
      "outputs": []
    }
  ]
}